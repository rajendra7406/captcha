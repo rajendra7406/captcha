{
 "cells": [
  {
   "cell_type": "markdown",
   "metadata": {},
   "source": [
    "Image Captcha is python library to create captcha.\n",
    "```python\n",
    "pip install captcha\n",
    "```\n",
    "We will use this library and create a CNN to predict the captcha\n",
    "#### Let's import libraries\n"
   ]
  },
  {
   "cell_type": "code",
   "execution_count": 1,
   "metadata": {
    "collapsed": true
   },
   "outputs": [],
   "source": [
    "from captcha.image import ImageCaptcha\n",
    "import numpy as np\n",
    "import os\n",
    "from PIL import Image\n",
    "import random\n",
    "from matplotlib.pyplot import imshow\n",
    "%matplotlib inline"
   ]
  },
  {
   "cell_type": "code",
   "execution_count": 2,
   "metadata": {
    "collapsed": true
   },
   "outputs": [],
   "source": [
    "num_alpha=['0','1','2','3','4','5','6','7','8','9',\n",
    "           'q','w','e','r','t','y','u','i','o','p',\n",
    "           'a','s','d','f','g','h','j','k','l','z',\n",
    "           'x','c','v','b','n','m',\n",
    "           'Q','W','E','R','T','Y','U','I','O','P',\n",
    "           'A','S','D','F','G','H','J','K','L','Z',\n",
    "           'X','C','V','B','N','M']\n",
    "#tol num = training set + test set +validation set\n",
    "height = 60\n",
    "width = 160"
   ]
  },
  {
   "cell_type": "code",
   "execution_count": 3,
   "metadata": {
    "collapsed": true
   },
   "outputs": [],
   "source": [
    "def random_captcha_text(char_set=num_alpha, captcha_size=6):\n",
    "    captcha_text = []\n",
    "    for i in range(captcha_size):\n",
    "        c = random.choice(char_set)\n",
    "        captcha_text.append(c)\n",
    "    return captcha_text"
   ]
  },
  {
   "cell_type": "code",
   "execution_count": 4,
   "metadata": {
    "collapsed": true
   },
   "outputs": [],
   "source": [
    "def gen_captcha_text_and_image(i):\n",
    "    image = ImageCaptcha(width=160,height=60,font_sizes=[30])\n",
    "    \n",
    "    captcha_text = random_captcha_text()\n",
    "    captcha_text = ''.join(captcha_text)\n",
    "    \n",
    "    captcha = image.generate(captcha_text)\n",
    "        \n",
    "    captcha_image=Image.open(captcha)\n",
    "    \n",
    "    if i == 0:\n",
    "        print('printing 1st captcha')\n",
    "        imshow(np.asarray(captcha_image) )\n",
    "        \n",
    "    captcha_arr = np.asarray(captcha_image, dtype=\"float32\")\n",
    "    #print(captcha_arr.shape)\n",
    "    return captcha_text, captcha_arr"
   ]
  },
  {
   "cell_type": "code",
   "execution_count": 5,
   "metadata": {
    "collapsed": true
   },
   "outputs": [],
   "source": [
    "from tqdm import *"
   ]
  },
  {
   "cell_type": "code",
   "execution_count": 6,
   "metadata": {
    "collapsed": true
   },
   "outputs": [],
   "source": [
    "tol_num = 110"
   ]
  },
  {
   "cell_type": "code",
   "execution_count": 7,
   "metadata": {},
   "outputs": [
    {
     "name": "stderr",
     "output_type": "stream",
     "text": [
      "\r",
      "  0%|          | 0/110 [00:00<?, ?it/s]"
     ]
    },
    {
     "name": "stdout",
     "output_type": "stream",
     "text": [
      "printing 1st captcha\n"
     ]
    },
    {
     "name": "stderr",
     "output_type": "stream",
     "text": [
      "100%|██████████| 110/110 [00:01<00:00, 63.60it/s]\n"
     ]
    },
    {
     "name": "stdout",
     "output_type": "stream",
     "text": [
      "-----------captchas generated------------\n"
     ]
    },
    {
     "data": {
      "image/png": "[encoded data removed]",
      "text/plain": [
       "<matplotlib.figure.Figure at 0x17af151b518>"
      ]
     },
     "metadata": {},
     "output_type": "display_data"
    }
   ],
   "source": [
    "#y_len is length of output vector which contains 10 numbers, 26 upper case letter, 26 lower case letters multiplied by 6 captcha letter\n",
    "y_len = 6*(10+26+26)\n",
    "channel = 3 #RGB Image\n",
    "data = np.empty((tol_num,height,width,channel),dtype=\"float32\")\n",
    "label = np.empty((tol_num,y_len),dtype=\"uint8\")\n",
    "\n",
    "for i in tqdm( range(tol_num) ):\n",
    "    text, arr = gen_captcha_text_and_image(i)\n",
    "    data[i,:,:,:] = arr\n",
    "    vector = np.zeros(6*(10+26+26))\n",
    "    for j,c in enumerate(text):\n",
    "        idx = j*(10+26+26) + num_alpha.index(c)\n",
    "        vector[idx]=1\n",
    "    label[i]=vector\n",
    "print('-----------captchas generated------------')\n",
    "#data, shuffled and split between train and test sets\n",
    "\n"
   ]
  },
  {
   "cell_type": "code",
   "execution_count": 8,
   "metadata": {
    "collapsed": true
   },
   "outputs": [],
   "source": [
    "val_minus = tol_num-10\n",
    "\n",
    "rr = [i for i in range(val_minus)]\n",
    "random.shuffle(rr)\n"
   ]
  },
  {
   "cell_type": "code",
   "execution_count": 9,
   "metadata": {
    "collapsed": true
   },
   "outputs": [],
   "source": [
    "train_num=80\n",
    "\n",
    "X_train = data[rr][:train_num]"
   ]
  },
  {
   "cell_type": "code",
   "execution_count": 10,
   "metadata": {
    "collapsed": true
   },
   "outputs": [],
   "source": [
    "\n",
    "y_train = label[rr][:train_num]\n"
   ]
  },
  {
   "cell_type": "code",
   "execution_count": 11,
   "metadata": {
    "collapsed": true
   },
   "outputs": [],
   "source": [
    "X_test = data[rr][train_num:]\n"
   ]
  },
  {
   "cell_type": "code",
   "execution_count": 12,
   "metadata": {
    "collapsed": true
   },
   "outputs": [],
   "source": [
    "y_test = label[rr][train_num:]\n",
    "\n"
   ]
  },
  {
   "cell_type": "code",
   "execution_count": 13,
   "metadata": {
    "collapsed": true
   },
   "outputs": [],
   "source": [
    "val_set = data[(val_minus+1):]\n"
   ]
  },
  {
   "cell_type": "code",
   "execution_count": 14,
   "metadata": {},
   "outputs": [
    {
     "data": {
      "text/plain": [
       "(80, 60, 160, 3)"
      ]
     },
     "execution_count": 14,
     "metadata": {},
     "output_type": "execute_result"
    }
   ],
   "source": [
    "X_train.shape"
   ]
  },
  {
   "cell_type": "markdown",
   "metadata": {
    "collapsed": true
   },
   "source": [
    "# Lets create the model"
   ]
  },
  {
   "cell_type": "code",
   "execution_count": 15,
   "metadata": {},
   "outputs": [
    {
     "name": "stderr",
     "output_type": "stream",
     "text": [
      "Using TensorFlow backend.\n"
     ]
    }
   ],
   "source": [
    "from keras.models import Sequential \n",
    "from keras.layers import Dense, Flatten, MaxPooling2D, Convolution2D, Dropout"
   ]
  },
  {
   "cell_type": "code",
   "execution_count": 16,
   "metadata": {},
   "outputs": [
    {
     "name": "stderr",
     "output_type": "stream",
     "text": [
      "C:\\Users\\Chaitra\\Anaconda3\\lib\\site-packages\\ipykernel_launcher.py:2: UserWarning: Update your `Conv2D` call to the Keras 2 API: `Conv2D(64, (8, 8), activation=\"relu\", input_shape=(60, 160, ...)`\n",
      "  \n",
      "C:\\Users\\Chaitra\\Anaconda3\\lib\\site-packages\\ipykernel_launcher.py:6: UserWarning: Update your `Conv2D` call to the Keras 2 API: `Conv2D(128, (4, 4), activation=\"relu\")`\n",
      "  \n",
      "C:\\Users\\Chaitra\\Anaconda3\\lib\\site-packages\\ipykernel_launcher.py:10: UserWarning: Update your `Conv2D` call to the Keras 2 API: `Conv2D(128, (2, 2), activation=\"relu\")`\n",
      "  # Remove the CWD from sys.path while we load stuff.\n"
     ]
    }
   ],
   "source": [
    "captcha_cnn = Sequential([\n",
    "    Convolution2D(64,8,8,input_shape=(height,width,channel), activation='relu'),\n",
    "    MaxPooling2D(pool_size=(2,2) ),\n",
    "    Dropout(0.25),\n",
    "    \n",
    "    Convolution2D(128,4,4,activation='relu'),\n",
    "    MaxPooling2D(pool_size=(2,2)),\n",
    "    Dropout(0.25),\n",
    "    \n",
    "    Convolution2D(128,2,2,activation='relu'),\n",
    "    MaxPooling2D(pool_size=(2,2)),\n",
    "    Dropout(0.25),\n",
    "    \n",
    "    Flatten(),\n",
    "    Dense(500,activation='relu'),\n",
    "    Dense(250,activation='relu'),\n",
    "    Dense(6*(10+26+26), activation='softmax')\n",
    "])"
   ]
  },
  {
   "cell_type": "code",
   "execution_count": 17,
   "metadata": {},
   "outputs": [
    {
     "name": "stdout",
     "output_type": "stream",
     "text": [
      "_________________________________________________________________\n",
      "Layer (type)                 Output Shape              Param #   \n",
      "=================================================================\n",
      "conv2d_1 (Conv2D)            (None, 53, 153, 64)       12352     \n",
      "_________________________________________________________________\n",
      "max_pooling2d_1 (MaxPooling2 (None, 26, 76, 64)        0         \n",
      "_________________________________________________________________\n",
      "dropout_1 (Dropout)          (None, 26, 76, 64)        0         \n",
      "_________________________________________________________________\n",
      "conv2d_2 (Conv2D)            (None, 23, 73, 128)       131200    \n",
      "_________________________________________________________________\n",
      "max_pooling2d_2 (MaxPooling2 (None, 11, 36, 128)       0         \n",
      "_________________________________________________________________\n",
      "dropout_2 (Dropout)          (None, 11, 36, 128)       0         \n",
      "_________________________________________________________________\n",
      "conv2d_3 (Conv2D)            (None, 10, 35, 128)       65664     \n",
      "_________________________________________________________________\n",
      "max_pooling2d_3 (MaxPooling2 (None, 5, 17, 128)        0         \n",
      "_________________________________________________________________\n",
      "dropout_3 (Dropout)          (None, 5, 17, 128)        0         \n",
      "_________________________________________________________________\n",
      "flatten_1 (Flatten)          (None, 10880)             0         \n",
      "_________________________________________________________________\n",
      "dense_1 (Dense)              (None, 500)               5440500   \n",
      "_________________________________________________________________\n",
      "dense_2 (Dense)              (None, 250)               125250    \n",
      "_________________________________________________________________\n",
      "dense_3 (Dense)              (None, 372)               93372     \n",
      "=================================================================\n",
      "Total params: 5,868,338\n",
      "Trainable params: 5,868,338\n",
      "Non-trainable params: 0\n",
      "_________________________________________________________________\n"
     ]
    }
   ],
   "source": [
    "captcha_cnn.summary()"
   ]
  },
  {
   "cell_type": "code",
   "execution_count": 18,
   "metadata": {
    "collapsed": true
   },
   "outputs": [],
   "source": [
    "captcha_cnn.compile(loss='categorical_crossentropy', optimizer='rmsprop')"
   ]
  },
  {
   "cell_type": "code",
   "execution_count": 19,
   "metadata": {},
   "outputs": [
    {
     "name": "stdout",
     "output_type": "stream",
     "text": [
      "Train on 80 samples, validate on 20 samples\n",
      "Epoch 1/1\n",
      "80/80 [==============================] - ETA: 356s - loss: 96.70 - ETA: 172s - loss: 96.70 - ETA: 111s - loss: 96.70 - ETA: 80s - loss: 96.7086 - ETA: 62s - loss: 96.708 - ETA: 49s - loss: 96.708 - ETA: 40s - loss: 96.708 - ETA: 34s - loss: 96.708 - ETA: 28s - loss: 96.708 - ETA: 24s - loss: 96.708 - ETA: 21s - loss: 96.708 - ETA: 18s - loss: 96.708 - ETA: 15s - loss: 96.708 - ETA: 13s - loss: 96.708 - ETA: 11s - loss: 96.708 - ETA: 10s - loss: 96.708 - ETA: 8s - loss: 96.708 - ETA: 7s - loss: 96.51 - ETA: 6s - loss: 96.52 - ETA: 5s - loss: 96.53 - ETA: 4s - loss: 96.28 - ETA: 3s - loss: 96.06 - ETA: 2s - loss: 95.85 - ETA: 1s - loss: 95.89 - ETA: 1s - loss: 95.92 - ETA: 0s - loss: 95.95 - 17s - loss: 95.9736 - val_loss: 96.7086\n"
     ]
    },
    {
     "data": {
      "text/plain": [
       "<keras.callbacks.History at 0x17afac96be0>"
      ]
     },
     "execution_count": 19,
     "metadata": {},
     "output_type": "execute_result"
    }
   ],
   "source": [
    "captcha_cnn.fit(X_train,y_train, \n",
    "          epochs=1, \n",
    "          batch_size=3, \n",
    "          validation_data=(X_test,y_test)\n",
    "         )"
   ]
  },
  {
   "cell_type": "code",
   "execution_count": 31,
   "metadata": {},
   "outputs": [
    {
     "name": "stdout",
     "output_type": "stream",
     "text": [
      "len of predict 9\n"
     ]
    }
   ],
   "source": [
    "predict = captcha_cnn.predict(val_set)\n",
    "print('len of predict',len(predict))"
   ]
  },
  {
   "cell_type": "code",
   "execution_count": 33,
   "metadata": {},
   "outputs": [
    {
     "data": {
      "text/plain": [
       "<matplotlib.image.AxesImage at 0x17b0ddbd518>"
      ]
     },
     "execution_count": 33,
     "metadata": {},
     "output_type": "execute_result"
    },
    {
     "data": {
      "image/png": "[encoded data removed]",
      "text/plain": [
       "<matplotlib.figure.Figure at 0x17b0dd72198>"
      ]
     },
     "metadata": {},
     "output_type": "display_data"
    }
   ],
   "source": [
    "imshow(np.asarray(val_set[0]) )\n",
    "print('the captcha that we are trying to detect')"
   ]
  },
  {
   "cell_type": "code",
   "execution_count": 34,
   "metadata": {},
   "outputs": [
    {
     "data": {
      "text/plain": [
       "(372,)"
      ]
     },
     "execution_count": 34,
     "metadata": {},
     "output_type": "execute_result"
    }
   ],
   "source": [
    "predict[0].shape"
   ]
  },
  {
   "cell_type": "code",
   "execution_count": 35,
   "metadata": {},
   "outputs": [],
   "source": [
    "output = predict[0].reshape(6,int(len(predict[0])/6) )"
   ]
  },
  {
   "cell_type": "code",
   "execution_count": 39,
   "metadata": {},
   "outputs": [
    {
     "name": "stdout",
     "output_type": "stream",
     "text": [
      "the final captcha is: ['A']\n"
     ]
    }
   ],
   "source": [
    "out_text = []\n",
    "out_idx=0\n",
    "for l in range(0,6):\n",
    "    for k in range(0,62):\n",
    "        if output[l][k] == 1:\n",
    "            out_idx=k\n",
    "            out_text.append(num_alpha[out_idx])\n",
    "            \n",
    "\n",
    "print('the final captcha is:',out_text)\n",
    "\n",
    "            "
   ]
  },
  {
   "cell_type": "markdown",
   "metadata": {},
   "source": [
    "# Highly inaccurate, will train on more data"
   ]
  }
 ],
 "metadata": {
  "kernelspec": {
   "display_name": "Python 3",
   "language": "python",
   "name": "python3"
  },
  "language_info": {
   "codemirror_mode": {
    "name": "ipython",
    "version": 3
   },
   "file_extension": ".py",
   "mimetype": "text/x-python",
   "name": "python",
   "nbconvert_exporter": "python",
   "pygments_lexer": "ipython3",
   "version": "3.5.3"
  }
 },
 "nbformat": 4,
 "nbformat_minor": 2
}
